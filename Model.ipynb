{
 "cells": [
  {
   "cell_type": "code",
   "execution_count": 2,
   "id": "postal-thought",
   "metadata": {},
   "outputs": [],
   "source": [
    "import tensorflow as tf\n",
    "\n",
    "from ocddetection.data import SENSORS\n",
    "from ocddetection.models import bidirectional"
   ]
  },
  {
   "cell_type": "code",
   "execution_count": 3,
   "id": "injured-lobby",
   "metadata": {},
   "outputs": [],
   "source": [
    "model = bidirectional(150, len(SENSORS), 64, 0.6)"
   ]
  },
  {
   "cell_type": "code",
   "execution_count": 4,
   "id": "accredited-heath",
   "metadata": {},
   "outputs": [
    {
     "name": "stdout",
     "output_type": "stream",
     "text": [
      "Model: \"sequential\"\n",
      "_________________________________________________________________\n",
      "Layer (type)                 Output Shape              Param #   \n",
      "=================================================================\n",
      "block_1_dense (Dense)        (None, 150, 64)           4992      \n",
      "_________________________________________________________________\n",
      "block_1_activation (Activati (None, 150, 64)           0         \n",
      "_________________________________________________________________\n",
      "block_2_bidirectional (Bidir (None, 128)               66048     \n",
      "_________________________________________________________________\n",
      "block_3_dense (Dense)        (None, 1)                 129       \n",
      "=================================================================\n",
      "Total params: 71,169\n",
      "Trainable params: 71,169\n",
      "Non-trainable params: 0\n",
      "_________________________________________________________________\n"
     ]
    }
   ],
   "source": [
    "model.summary()"
   ]
  },
  {
   "cell_type": "code",
   "execution_count": null,
   "id": "jewish-joyce",
   "metadata": {},
   "outputs": [],
   "source": []
  }
 ],
 "metadata": {
  "kernelspec": {
   "display_name": "Python 3",
   "language": "python",
   "name": "python3"
  },
  "language_info": {
   "codemirror_mode": {
    "name": "ipython",
    "version": 3
   },
   "file_extension": ".py",
   "mimetype": "text/x-python",
   "name": "python",
   "nbconvert_exporter": "python",
   "pygments_lexer": "ipython3",
   "version": "3.8.5"
  }
 },
 "nbformat": 4,
 "nbformat_minor": 5
}
