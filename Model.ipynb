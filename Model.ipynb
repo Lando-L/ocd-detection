{
 "cells": [
  {
   "cell_type": "code",
   "execution_count": 8,
   "id": "postal-thought",
   "metadata": {},
   "outputs": [],
   "source": [
    "import numpy as np\n",
    "import tensorflow as tf\n",
    "import tensorflow_federated as tff"
   ]
  },
  {
   "cell_type": "code",
   "execution_count": 9,
   "id": "618860ab",
   "metadata": {},
   "outputs": [],
   "source": [
    "labels = tf.constant([1., 0.5, 0.])"
   ]
  },
  {
   "cell_type": "code",
   "execution_count": 10,
   "id": "d8b8152c",
   "metadata": {},
   "outputs": [],
   "source": [
    "logits = tf.constant([1.5, -0.1, -10.])"
   ]
  },
  {
   "cell_type": "code",
   "execution_count": 21,
   "id": "095b578b",
   "metadata": {},
   "outputs": [
    {
     "data": {
      "text/plain": [
       "<tf.Tensor: shape=(3,), dtype=float32, numpy=array([1.4098930e+00, 2.9275868e+00, 4.5776367e-05], dtype=float32)>"
      ]
     },
     "execution_count": 21,
     "metadata": {},
     "output_type": "execute_result"
    }
   ],
   "source": [
    "tf.nn.weighted_cross_entropy_with_logits(labels=labels, logits=logits, pos_weight=tf.constant(7, dtype=tf.float32))"
   ]
  },
  {
   "cell_type": "code",
   "execution_count": 7,
   "id": "65c9a32e",
   "metadata": {},
   "outputs": [
    {
     "data": {
      "text/plain": [
       "<tf.Tensor: shape=(3,), dtype=float32, numpy=array([1.00706644e-01, 5.08297503e-01, 4.57763672e-05], dtype=float32)>"
      ]
     },
     "execution_count": 7,
     "metadata": {},
     "output_type": "execute_result"
    }
   ],
   "source": [
    "tf.nn.weighted_cross_entropy_with_logits(labels=labels, logits=logits, pos_weight=tf.constant(0.5))"
   ]
  },
  {
   "cell_type": "code",
   "execution_count": null,
   "id": "544a5a51",
   "metadata": {},
   "outputs": [],
   "source": []
  }
 ],
 "metadata": {
  "kernelspec": {
   "display_name": "Python 3",
   "language": "python",
   "name": "python3"
  },
  "language_info": {
   "codemirror_mode": {
    "name": "ipython",
    "version": 3
   },
   "file_extension": ".py",
   "mimetype": "text/x-python",
   "name": "python",
   "nbconvert_exporter": "python",
   "pygments_lexer": "ipython3",
   "version": "3.6.9"
  }
 },
 "nbformat": 4,
 "nbformat_minor": 5
}
