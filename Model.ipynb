{
 "cells": [
  {
   "cell_type": "code",
   "execution_count": 1,
   "id": "postal-thought",
   "metadata": {},
   "outputs": [],
   "source": [
    "import numpy as np\n",
    "import tensorflow as tf\n",
    "import tensorflow_federated as tff"
   ]
  },
  {
   "cell_type": "code",
   "execution_count": 2,
   "id": "04c8779d",
   "metadata": {},
   "outputs": [],
   "source": [
    "import nest_asyncio"
   ]
  },
  {
   "cell_type": "code",
   "execution_count": 3,
   "id": "37c0ed62",
   "metadata": {},
   "outputs": [],
   "source": [
    "nest_asyncio.apply()"
   ]
  },
  {
   "cell_type": "code",
   "execution_count": 5,
   "id": "77dc48be",
   "metadata": {},
   "outputs": [],
   "source": [
    "client_one = tf.data.Dataset.from_tensor_slices((\n",
    "    tf.random.uniform(shape=(10, 5)),\n",
    "    tf.zeros(shape=(10,))\n",
    ")).batch(10)"
   ]
  },
  {
   "cell_type": "code",
   "execution_count": 6,
   "id": "89aa1ab7",
   "metadata": {},
   "outputs": [],
   "source": [
    "client_two = tf.data.Dataset.from_tensor_slices((\n",
    "    tf.random.uniform(shape=(10, 5)),\n",
    "    tf.ones(shape=(10,))\n",
    ")).batch(10)"
   ]
  },
  {
   "cell_type": "code",
   "execution_count": 7,
   "id": "b33c5d33",
   "metadata": {},
   "outputs": [],
   "source": [
    "client_three = tf.data.Dataset.from_tensor_slices((\n",
    "    tf.random.uniform(shape=(10, 5)),\n",
    "    tf.ones(shape=(10,))\n",
    ")).batch(10)"
   ]
  },
  {
   "cell_type": "code",
   "execution_count": 8,
   "id": "16c95cf5",
   "metadata": {},
   "outputs": [],
   "source": [
    "data = [client_one, client_two, client_three]"
   ]
  },
  {
   "cell_type": "code",
   "execution_count": 9,
   "id": "de30dfc6",
   "metadata": {},
   "outputs": [],
   "source": [
    "def model_fn():\n",
    "    return tff.learning.from_keras_model(\n",
    "        tf.keras.Sequential([\n",
    "            tf.keras.layers.Input(shape=(5,)),\n",
    "            tf.keras.layers.Dense(1, trainable=False),\n",
    "            tf.keras.layers.Lambda(lambda x: tf.ones_like(x))\n",
    "        ]),\n",
    "        input_spec=client_one.element_spec,\n",
    "        loss=tf.keras.losses.BinaryCrossentropy(),\n",
    "        metrics=[tf.keras.metrics.Accuracy(name='acc'), tf.keras.metrics.AUC(curve='pr', name='auc')]\n",
    "    )"
   ]
  },
  {
   "cell_type": "code",
   "execution_count": 10,
   "id": "950b1b37",
   "metadata": {},
   "outputs": [],
   "source": [
    "iterative_process = tff.learning.build_federated_averaging_process(\n",
    "    model_fn,\n",
    "    client_optimizer_fn=lambda: tf.keras.optimizers.SGD(learning_rate=0.02),\n",
    "    server_optimizer_fn=lambda: tf.keras.optimizers.SGD(learning_rate=1.0)\n",
    ")"
   ]
  },
  {
   "cell_type": "code",
   "execution_count": 11,
   "id": "836c3233",
   "metadata": {},
   "outputs": [
    {
     "name": "stdout",
     "output_type": "stream",
     "text": [
      "WARNING:tensorflow:From /usr/local/lib/python3.6/dist-packages/tensorflow_federated/python/core/impl/compiler/tensorflow_computation_transformations.py:59: extract_sub_graph (from tensorflow.python.framework.graph_util_impl) is deprecated and will be removed in a future version.\n",
      "Instructions for updating:\n",
      "Use `tf.compat.v1.graph_util.extract_sub_graph`\n"
     ]
    },
    {
     "name": "stderr",
     "output_type": "stream",
     "text": [
      "WARNING:tensorflow:From /usr/local/lib/python3.6/dist-packages/tensorflow_federated/python/core/impl/compiler/tensorflow_computation_transformations.py:59: extract_sub_graph (from tensorflow.python.framework.graph_util_impl) is deprecated and will be removed in a future version.\n",
      "Instructions for updating:\n",
      "Use `tf.compat.v1.graph_util.extract_sub_graph`\n"
     ]
    }
   ],
   "source": [
    "state = iterative_process.initialize()"
   ]
  },
  {
   "cell_type": "code",
   "execution_count": 12,
   "id": "5ed3554a",
   "metadata": {},
   "outputs": [],
   "source": [
    "evaluation = tff.learning.build_federated_evaluation(model_fn)"
   ]
  },
  {
   "cell_type": "code",
   "execution_count": 13,
   "id": "1af02e41",
   "metadata": {},
   "outputs": [],
   "source": [
    "results = evaluation(state.model, data)"
   ]
  },
  {
   "cell_type": "code",
   "execution_count": 14,
   "id": "452d4fd5",
   "metadata": {},
   "outputs": [
    {
     "data": {
      "text/plain": [
       "OrderedDict([('acc', 0.6666667), ('auc', 0.6666667), ('loss', 5.111079)])"
      ]
     },
     "execution_count": 14,
     "metadata": {},
     "output_type": "execute_result"
    }
   ],
   "source": [
    "results"
   ]
  }
 ],
 "metadata": {
  "kernelspec": {
   "display_name": "Python 3",
   "language": "python",
   "name": "python3"
  },
  "language_info": {
   "codemirror_mode": {
    "name": "ipython",
    "version": 3
   },
   "file_extension": ".py",
   "mimetype": "text/x-python",
   "name": "python",
   "nbconvert_exporter": "python",
   "pygments_lexer": "ipython3",
   "version": "3.6.9"
  }
 },
 "nbformat": 4,
 "nbformat_minor": 5
}
