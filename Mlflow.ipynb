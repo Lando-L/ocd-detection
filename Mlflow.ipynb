{
 "cells": [
  {
   "cell_type": "code",
   "execution_count": 1,
   "metadata": {},
   "outputs": [
    {
     "name": "stderr",
     "output_type": "stream",
     "text": [
      "/home/Lando.Loeper/miniconda3/envs/fl/lib/python3.8/site-packages/tensorflow_federated/python/core/api/computation_types.py:492: DeprecationWarning: Using or importing the ABCs from 'collections' instead of from 'collections.abc' is deprecated since Python 3.3, and in 3.9 it will stop working\n",
      "  py_typecheck.check_type(elements, collections.Iterable)\n",
      "/home/Lando.Loeper/miniconda3/envs/fl/lib/python3.8/site-packages/tensorflow_federated/python/common_libs/py_typecheck.py:177: DeprecationWarning: Using or importing the ABCs from 'collections' instead of from 'collections.abc' is deprecated since Python 3.3, and in 3.9 it will stop working\n",
      "  if not isinstance(element, collections.Sequence) or len(element) != 2:\n",
      "/home/Lando.Loeper/miniconda3/envs/fl/lib/python3.8/site-packages/tensorflow_federated/python/core/impl/executors/caching_executor.py:33: DeprecationWarning: Using or importing the ABCs from 'collections' instead of from 'collections.abc' is deprecated since Python 3.3, and in 3.9 it will stop working\n",
      "  class HashableWrapper(collections.Hashable):\n"
     ]
    }
   ],
   "source": [
    "import nest_asyncio\n",
    "import numpy as np\n",
    "import tensorflow as tf\n",
    "\n",
    "from ocddetection import models\n",
    "from ocddetection.federated.learning import stateful\n",
    "from ocddetection.federated.learning.impl.personalization import mixed"
   ]
  },
  {
   "cell_type": "code",
   "execution_count": 2,
   "metadata": {},
   "outputs": [
    {
     "name": "stderr",
     "output_type": "stream",
     "text": [
      "/home/Lando.Loeper/miniconda3/envs/fl/lib/python3.8/site-packages/ipykernel/ipkernel.py:287: DeprecationWarning: `should_run_async` will not call `transform_cell` automatically in the future. Please pass the result to `transformed_cell` argument and any exception that happen during thetransform in `preprocessing_exc_tuple` in IPython 7.17 and above.\n",
      "  and should_run_async(code)\n"
     ]
    }
   ],
   "source": [
    "nest_asyncio.apply()"
   ]
  },
  {
   "cell_type": "code",
   "execution_count": null,
   "metadata": {},
   "outputs": [],
   "source": []
  },
  {
   "cell_type": "code",
   "execution_count": null,
   "metadata": {},
   "outputs": [],
   "source": [
    "model = models.bidirectional(5, 2, 1, 8, 0.5)"
   ]
  },
  {
   "cell_type": "code",
   "execution_count": null,
   "metadata": {},
   "outputs": [],
   "source": [
    "model.summary()"
   ]
  },
  {
   "cell_type": "code",
   "execution_count": null,
   "metadata": {},
   "outputs": [],
   "source": [
    "model.trainable_variables"
   ]
  },
  {
   "cell_type": "code",
   "execution_count": null,
   "metadata": {},
   "outputs": [],
   "source": [
    "optimizer = tf.keras.optimizers.SGD(learning_rate=0.1)"
   ]
  },
  {
   "cell_type": "code",
   "execution_count": null,
   "metadata": {},
   "outputs": [],
   "source": [
    "loss_fn = tf.keras.losses.BinaryCrossentropy()"
   ]
  },
  {
   "cell_type": "code",
   "execution_count": null,
   "metadata": {},
   "outputs": [],
   "source": [
    "train_loss = tf.keras.metrics.Mean(name='loss')\n",
    "train_metrics = [tf.keras.metrics.BinaryAccuracy(name='accuracy')]"
   ]
  },
  {
   "cell_type": "code",
   "execution_count": null,
   "metadata": {},
   "outputs": [],
   "source": [
    "def __train_step(X, y, model, optimizer, loss_fn, loss, metrics):\n",
    "    with tf.GradientTape() as tape:\n",
    "        y_hat = model(X, training=True)\n",
    "        _loss = loss_fn(y, y_hat)\n",
    "\n",
    "    optimizer.apply_gradients(\n",
    "        zip(\n",
    "            tape.gradient(_loss, model.trainable_variables),\n",
    "            model.trainable_variables\n",
    "        )\n",
    "    )\n",
    "\n",
    "    loss(_loss)\n",
    "    for metric in metrics:\n",
    "        metric(y, y_hat)\n",
    "\n",
    "def __log(key: str, epoch: int, weight: int, value: float, state):\n",
    "    state[key][epoch].append((weight, value))"
   ]
  },
  {
   "cell_type": "code",
   "execution_count": null,
   "metadata": {},
   "outputs": [],
   "source": [
    "train_fn = tf.function(\n",
    "    partial(\n",
    "        __train_step,\n",
    "        model=model,\n",
    "        optimizer=optimizer,\n",
    "        loss_fn=loss_fn,\n",
    "        loss=train_loss,\n",
    "        metrics=train_metrics\n",
    "    )\n",
    ")"
   ]
  },
  {
   "cell_type": "code",
   "execution_count": null,
   "metadata": {},
   "outputs": [],
   "source": [
    "num_examples = tf.Variable(0, trainable=False, dtype=tf.int32)"
   ]
  },
  {
   "cell_type": "code",
   "execution_count": null,
   "metadata": {},
   "outputs": [],
   "source": [
    "logger = defaultdict(lambda: defaultdict(list))"
   ]
  },
  {
   "cell_type": "code",
   "execution_count": null,
   "metadata": {},
   "outputs": [],
   "source": [
    "log = partial(__log, state=logger)"
   ]
  },
  {
   "cell_type": "code",
   "execution_count": null,
   "metadata": {},
   "outputs": [],
   "source": [
    "for epoch in range(1, 6):\n",
    "    num_examples.assign(0)\n",
    "    \n",
    "    train_loss.reset_states()\n",
    "    for metric in train_metrics:\n",
    "        metric.reset_states()\n",
    "    \n",
    "    for X, y in data:\n",
    "        train_fn(X, y)\n",
    "        num_examples.assign_add(tf.shape(y)[0])\n",
    "    \n",
    "    log(train_loss.name, epoch, num_examples.read_value().numpy(), train_loss.result().numpy())\n",
    "    for metric in train_metrics:\n",
    "        log(metric.name, epoch, num_examples.read_value().numpy(), metric.result().numpy())"
   ]
  },
  {
   "cell_type": "code",
   "execution_count": null,
   "metadata": {},
   "outputs": [],
   "source": [
    "logger"
   ]
  },
  {
   "cell_type": "code",
   "execution_count": null,
   "metadata": {},
   "outputs": [],
   "source": []
  }
 ],
 "metadata": {
  "kernelspec": {
   "display_name": "Python 3",
   "language": "python",
   "name": "python3"
  },
  "language_info": {
   "codemirror_mode": {
    "name": "ipython",
    "version": 3
   },
   "file_extension": ".py",
   "mimetype": "text/x-python",
   "name": "python",
   "nbconvert_exporter": "python",
   "pygments_lexer": "ipython3",
   "version": "3.8.5"
  }
 },
 "nbformat": 4,
 "nbformat_minor": 4
}
