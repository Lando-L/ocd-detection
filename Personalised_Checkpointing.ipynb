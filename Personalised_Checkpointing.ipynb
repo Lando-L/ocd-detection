{
 "cells": [
  {
   "cell_type": "code",
   "execution_count": 1,
   "id": "practical-diana",
   "metadata": {},
   "outputs": [],
   "source": [
    "import tensorflow as tf\n",
    "import tensorflow_addons as tfa"
   ]
  },
  {
   "cell_type": "code",
   "execution_count": 12,
   "id": "functioning-austria",
   "metadata": {},
   "outputs": [],
   "source": [
    "y_true = tf.constant([[1.0], [1.0], [1.0], [0.0]], dtype=tf.float32)\n",
    "\n",
    "y_pred = tf.constant([[.8], [0.2], [.7], [.7]], dtype=tf.float32)\n",
    "y_pred_round = tf.constant([[1.0], [0.0], [1.0], [1.0]], dtype=tf.float32)"
   ]
  },
  {
   "cell_type": "code",
   "execution_count": 13,
   "id": "professional-hebrew",
   "metadata": {},
   "outputs": [],
   "source": [
    "mcc = tfa.metrics.MatthewsCorrelationCoefficient(num_classes=1)"
   ]
  },
  {
   "cell_type": "code",
   "execution_count": 9,
   "id": "ranging-bristol",
   "metadata": {},
   "outputs": [],
   "source": [
    "f1 = tfa.metrics.F1Score(num_classes=1)"
   ]
  },
  {
   "cell_type": "code",
   "execution_count": 14,
   "id": "gothic-bread",
   "metadata": {},
   "outputs": [],
   "source": [
    "mcc.update_state(y_true, y_pred_round)"
   ]
  },
  {
   "cell_type": "code",
   "execution_count": 11,
   "id": "surprised-insertion",
   "metadata": {},
   "outputs": [
    {
     "data": {
      "text/plain": [
       "<tf.Tensor: shape=(1,), dtype=float32, numpy=array([0.6123724], dtype=float32)>"
      ]
     },
     "execution_count": 11,
     "metadata": {},
     "output_type": "execute_result"
    }
   ],
   "source": [
    "mcc.result()"
   ]
  },
  {
   "cell_type": "code",
   "execution_count": 15,
   "id": "dominican-above",
   "metadata": {},
   "outputs": [
    {
     "data": {
      "text/plain": [
       "<tf.Tensor: shape=(1,), dtype=float32, numpy=array([-0.33333334], dtype=float32)>"
      ]
     },
     "execution_count": 15,
     "metadata": {},
     "output_type": "execute_result"
    }
   ],
   "source": [
    "mcc.result()"
   ]
  },
  {
   "cell_type": "code",
   "execution_count": null,
   "id": "cordless-holmes",
   "metadata": {},
   "outputs": [],
   "source": []
  }
 ],
 "metadata": {
  "kernelspec": {
   "display_name": "Python 3",
   "language": "python",
   "name": "python3"
  },
  "language_info": {
   "codemirror_mode": {
    "name": "ipython",
    "version": 3
   },
   "file_extension": ".py",
   "mimetype": "text/x-python",
   "name": "python",
   "nbconvert_exporter": "python",
   "pygments_lexer": "ipython3",
   "version": "3.8.5"
  }
 },
 "nbformat": 4,
 "nbformat_minor": 5
}
