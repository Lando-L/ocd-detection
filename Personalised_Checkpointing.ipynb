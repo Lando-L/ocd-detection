{
 "cells": [
  {
   "cell_type": "code",
   "execution_count": 1,
   "id": "practical-diana",
   "metadata": {},
   "outputs": [],
   "source": [
    "from functools import partial\n",
    "\n",
    "import tensorflow as tf\n",
    "import tensorflow_federated as tff\n",
    "\n",
    "from ocddetection.learning.federated.stateful import evaluation\n",
    "from ocddetection.learning.federated.stateful.impl import interpolation"
   ]
  },
  {
   "cell_type": "code",
   "execution_count": 2,
   "id": "cordless-holmes",
   "metadata": {},
   "outputs": [],
   "source": [
    "window_size = 150\n",
    "batch_size = 128\n",
    "hidden_size = 64"
   ]
  },
  {
   "cell_type": "code",
   "execution_count": 3,
   "id": "67b8683a",
   "metadata": {},
   "outputs": [],
   "source": [
    "val = evaluation.__load_data(\n",
    "    '/opportunity/augmented/including_original',\n",
    "    window_size,\n",
    "    batch_size\n",
    ")"
   ]
  },
  {
   "cell_type": "code",
   "execution_count": 4,
   "id": "52a9065b",
   "metadata": {},
   "outputs": [],
   "source": [
    "server_state, client_state_fn, model_fn = interpolation.create(\n",
    "    window_size,\n",
    "    hidden_size,\n",
    "    evaluation.__optimizer_fn,\n",
    "    evaluation.__metrics_fn\n",
    ")"
   ]
  },
  {
   "cell_type": "code",
   "execution_count": 5,
   "id": "64d76608",
   "metadata": {},
   "outputs": [],
   "source": [
    "client_states = {i: client_state_fn(idx) for idx, i in enumerate(val.clients)}"
   ]
  },
  {
   "cell_type": "code",
   "execution_count": 9,
   "id": "bb562ea1",
   "metadata": {},
   "outputs": [],
   "source": [
    "ckpt_manager = tff.simulation.FileCheckpointManager('./checkpoints/federated/interpolation')"
   ]
  },
  {
   "cell_type": "code",
   "execution_count": 10,
   "id": "3999c500",
   "metadata": {},
   "outputs": [],
   "source": [
    "ckpt = ckpt_manager.load_latest_checkpoint([server_state, list(client_states.values())])[0]"
   ]
  },
  {
   "cell_type": "code",
   "execution_count": 16,
   "id": "9996fa38",
   "metadata": {},
   "outputs": [],
   "source": [
    "server_state, client_states = ckpt"
   ]
  },
  {
   "cell_type": "code",
   "execution_count": 24,
   "id": "7cd2afb8",
   "metadata": {},
   "outputs": [],
   "source": [
    "client_dict = dict(zip(val.clients, client_states))"
   ]
  },
  {
   "cell_type": "code",
   "execution_count": 28,
   "id": "45015767",
   "metadata": {},
   "outputs": [
    {
     "data": {
      "text/plain": [
       "[<tf.Tensor: shape=(), dtype=float32, numpy=0.77100605>,\n",
       " <tf.Tensor: shape=(), dtype=float32, numpy=0.6658855>,\n",
       " <tf.Tensor: shape=(), dtype=float32, numpy=0.7021341>,\n",
       " <tf.Tensor: shape=(), dtype=float32, numpy=0.78530556>]"
      ]
     },
     "execution_count": 28,
     "metadata": {},
     "output_type": "execute_result"
    }
   ],
   "source": [
    "[client_dict[client].mixing_coefficient for client in val.clients]"
   ]
  },
  {
   "cell_type": "code",
   "execution_count": null,
   "id": "de8d4936",
   "metadata": {},
   "outputs": [],
   "source": []
  },
  {
   "cell_type": "code",
   "execution_count": null,
   "id": "49550acb",
   "metadata": {},
   "outputs": [],
   "source": [
    "cm = val.data[val.clients[0]].reduce(\n",
    "    tf.zeros((2, 2), dtype=tf.int32),\n",
    "    partial(evaluation.__evaluation_step, model=model)\n",
    ")"
   ]
  },
  {
   "cell_type": "code",
   "execution_count": null,
   "id": "b3d809f2",
   "metadata": {},
   "outputs": [],
   "source": [
    "cm"
   ]
  },
  {
   "cell_type": "code",
   "execution_count": null,
   "id": "f75a8fdb",
   "metadata": {},
   "outputs": [],
   "source": [
    "outputs = model.report_local_outputs()"
   ]
  },
  {
   "cell_type": "code",
   "execution_count": null,
   "id": "8ddf24eb",
   "metadata": {},
   "outputs": [],
   "source": [
    "outputs['auc']"
   ]
  },
  {
   "cell_type": "code",
   "execution_count": null,
   "id": "8da47047",
   "metadata": {},
   "outputs": [],
   "source": [
    "metrics = evaluation.__metrics_fn()"
   ]
  },
  {
   "cell_type": "code",
   "execution_count": null,
   "id": "10eb11ae",
   "metadata": {},
   "outputs": [],
   "source": [
    "metrics[0].result()"
   ]
  },
  {
   "cell_type": "code",
   "execution_count": null,
   "id": "f125872c",
   "metadata": {},
   "outputs": [],
   "source": [
    "for variable, value in zip(metrics[0].variables, outputs['auc']):\n",
    "    variable.assign(value)"
   ]
  },
  {
   "cell_type": "code",
   "execution_count": null,
   "id": "60373aae",
   "metadata": {},
   "outputs": [],
   "source": [
    "metrics[0].result()"
   ]
  },
  {
   "cell_type": "code",
   "execution_count": null,
   "id": "853ed8de",
   "metadata": {},
   "outputs": [],
   "source": [
    "for variable, value in zip(metrics[1].variables, outputs['precision']):\n",
    "    variable.assign(value)"
   ]
  },
  {
   "cell_type": "code",
   "execution_count": null,
   "id": "7ff5ed61",
   "metadata": {},
   "outputs": [],
   "source": [
    "metrics[1].result()"
   ]
  },
  {
   "cell_type": "code",
   "execution_count": null,
   "id": "abca477e",
   "metadata": {},
   "outputs": [],
   "source": []
  }
 ],
 "metadata": {
  "kernelspec": {
   "display_name": "Python 3",
   "language": "python",
   "name": "python3"
  },
  "language_info": {
   "codemirror_mode": {
    "name": "ipython",
    "version": 3
   },
   "file_extension": ".py",
   "mimetype": "text/x-python",
   "name": "python",
   "nbconvert_exporter": "python",
   "pygments_lexer": "ipython3",
   "version": "3.6.9"
  }
 },
 "nbformat": 4,
 "nbformat_minor": 5
}
