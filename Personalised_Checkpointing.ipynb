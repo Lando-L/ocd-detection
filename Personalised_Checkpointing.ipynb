{
 "cells": [
  {
   "cell_type": "code",
   "execution_count": 1,
   "id": "practical-diana",
   "metadata": {},
   "outputs": [],
   "source": [
    "import numpy as np\n",
    "import pandas as pd\n",
    "import tensorflow as tf"
   ]
  },
  {
   "cell_type": "code",
   "execution_count": 2,
   "id": "lyric-hotel",
   "metadata": {},
   "outputs": [],
   "source": [
    "def read_meta(path):\n",
    "    df = pd.read_csv(path)\n",
    "    df['ms'] = pd.TimedeltaIndex(df['0'])\n",
    "    \n",
    "    return df.drop(columns='0')"
   ]
  },
  {
   "cell_type": "code",
   "execution_count": 3,
   "id": "acute-income",
   "metadata": {},
   "outputs": [],
   "source": [
    "meta = read_meta('./data/S1-ADL4-META.csv')"
   ]
  },
  {
   "cell_type": "code",
   "execution_count": 5,
   "id": "funny-wallet",
   "metadata": {},
   "outputs": [
    {
     "data": {
      "text/plain": [
       "Null                24723\n",
       "Drink from Cup       2898\n",
       "Close Fridge         2439\n",
       "Open Fridge          2391\n",
       "Open Door 1           600\n",
       "Open Door 2           524\n",
       "Open Dishwasher       495\n",
       "Close Dishwasher      460\n",
       "Close Door 1          439\n",
       "Close Door 2          402\n",
       "Close Drawer 2        319\n",
       "Toggle Switch         287\n",
       "Open Drawer 3         231\n",
       "Close Drawer 3        206\n",
       "Open Drawer 2         203\n",
       "Clean Table           196\n",
       "Close Drawer 1         63\n",
       "Open Drawer 1          50\n",
       "Name: activity, dtype: int64"
      ]
     },
     "execution_count": 5,
     "metadata": {},
     "output_type": "execute_result"
    }
   ],
   "source": [
    "meta['activity'].value_counts()"
   ]
  },
  {
   "cell_type": "code",
   "execution_count": 6,
   "id": "french-creator",
   "metadata": {},
   "outputs": [
    {
     "name": "stdout",
     "output_type": "stream",
     "text": [
      "WARNING:tensorflow:5 out of the last 5 calls to <function _KerasModel.report_local_outputs at 0x7f7f3c773280> triggered tf.function retracing. Tracing is expensive and the excessive number of tracings could be due to (1) creating @tf.function repeatedly in a loop, (2) passing tensors with different shapes, (3) passing Python objects instead of tensors. For (1), please define your @tf.function outside of the loop. For (2), @tf.function has experimental_relax_shapes=True option that relaxes argument shapes that can avoid unnecessary retracing. For (3), please refer to https://www.tensorflow.org/guide/function#controlling_retracing and https://www.tensorflow.org/api_docs/python/tf/function for  more details.\n"
     ]
    }
   ],
   "source": []
  },
  {
   "cell_type": "code",
   "execution_count": 7,
   "id": "elder-kelly",
   "metadata": {},
   "outputs": [],
   "source": [
    "client_optimizer_fn = partial(\n",
    "    interpolation.__client_optimizer_fn,\n",
    "    learning_rate=0.001\n",
    ")"
   ]
  },
  {
   "cell_type": "code",
   "execution_count": 8,
   "id": "uniform-hydrogen",
   "metadata": {},
   "outputs": [],
   "source": [
    "nest_asyncio.apply()"
   ]
  },
  {
   "cell_type": "code",
   "execution_count": 9,
   "id": "overhead-criminal",
   "metadata": {},
   "outputs": [
    {
     "name": "stdout",
     "output_type": "stream",
     "text": [
      "WARNING:tensorflow:6 out of the last 6 calls to <function _KerasModel.report_local_outputs at 0x7f7f3c597820> triggered tf.function retracing. Tracing is expensive and the excessive number of tracings could be due to (1) creating @tf.function repeatedly in a loop, (2) passing tensors with different shapes, (3) passing Python objects instead of tensors. For (1), please define your @tf.function outside of the loop. For (2), @tf.function has experimental_relax_shapes=True option that relaxes argument shapes that can avoid unnecessary retracing. For (3), please refer to https://www.tensorflow.org/guide/function#controlling_retracing and https://www.tensorflow.org/api_docs/python/tf/function for  more details.\n"
     ]
    }
   ],
   "source": [
    "iterator = process.iterator(\n",
    "    interpolation.__coefficient_fn,\n",
    "    model_fn,\n",
    "    client_state_fn,\n",
    "    interpolation.__server_optimizer_fn,\n",
    "    client_optimizer_fn\n",
    ")"
   ]
  },
  {
   "cell_type": "code",
   "execution_count": 10,
   "id": "improving-pepper",
   "metadata": {},
   "outputs": [],
   "source": [
    "state = iterator.initialize()"
   ]
  },
  {
   "cell_type": "code",
   "execution_count": 13,
   "id": "upper-happening",
   "metadata": {},
   "outputs": [],
   "source": [
    "checkpoint_manager = tff.simulation.FileCheckpointManager('./checkpoints/interpolation')"
   ]
  },
  {
   "cell_type": "code",
   "execution_count": 14,
   "id": "diverse-joyce",
   "metadata": {},
   "outputs": [
    {
     "name": "stdout",
     "output_type": "stream",
     "text": [
      "INFO:tensorflow:Assets written to: ./checkpoints/interpolation/.temp_ckpt_0/assets\n"
     ]
    },
    {
     "name": "stderr",
     "output_type": "stream",
     "text": [
      "INFO:tensorflow:Assets written to: ./checkpoints/interpolation/.temp_ckpt_0/assets\n"
     ]
    }
   ],
   "source": [
    "checkpoint_manager.save_checkpoint([client_states, state], 0)"
   ]
  }
 ],
 "metadata": {
  "kernelspec": {
   "display_name": "Python 3",
   "language": "python",
   "name": "python3"
  },
  "language_info": {
   "codemirror_mode": {
    "name": "ipython",
    "version": 3
   },
   "file_extension": ".py",
   "mimetype": "text/x-python",
   "name": "python",
   "nbconvert_exporter": "python",
   "pygments_lexer": "ipython3",
   "version": "3.8.5"
  }
 },
 "nbformat": 4,
 "nbformat_minor": 5
}
