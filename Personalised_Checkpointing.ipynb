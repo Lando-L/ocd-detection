{
 "cells": [
  {
   "cell_type": "code",
   "execution_count": 1,
   "id": "practical-diana",
   "metadata": {},
   "outputs": [],
   "source": [
    "import nest_asyncio\n",
    "import tensorflow as tf\n",
    "import tensorflow_federated as tff\n",
    "\n",
    "from ocddetection.learning.federated.simulation import training\n",
    "from ocddetection.learning.federated.impl import mixed"
   ]
  },
  {
   "cell_type": "code",
   "execution_count": 2,
   "id": "cordless-holmes",
   "metadata": {},
   "outputs": [],
   "source": [
    "window_size = 150\n",
    "batch_size = 128\n",
    "hidden_size = 64"
   ]
  },
  {
   "cell_type": "code",
   "execution_count": 3,
   "id": "78514d64",
   "metadata": {},
   "outputs": [],
   "source": [
    "nest_asyncio.apply()"
   ]
  },
  {
   "cell_type": "code",
   "execution_count": 4,
   "id": "67b8683a",
   "metadata": {},
   "outputs": [],
   "source": [
    "train, val, _ = training.__load_data(\n",
    "    '/opportunity/augmented/including_original',\n",
    "    1,\n",
    "    window_size,\n",
    "    batch_size\n",
    ")"
   ]
  },
  {
   "cell_type": "code",
   "execution_count": 5,
   "id": "a2fbea9e",
   "metadata": {},
   "outputs": [],
   "source": [
    "checkpoint_manager = tff.simulation.FileCheckpointManager('/ocd-detection/checkpoints/federated/hybrid')"
   ]
  },
  {
   "cell_type": "code",
   "execution_count": 7,
   "id": "70e80874",
   "metadata": {},
   "outputs": [],
   "source": [
    "server_state, client_state_fn, model_fn = mixed.create(\n",
    "    window_size,\n",
    "    hidden_size,\n",
    "    training.__server_optimizer_fn,\n",
    "    training.__training_metrics_fn\n",
    ")"
   ]
  },
  {
   "cell_type": "code",
   "execution_count": 8,
   "id": "5085298a",
   "metadata": {},
   "outputs": [],
   "source": [
    "ckpt = checkpoint_manager.load_latest_checkpoint([server_state, [client_state_fn(-1) for _ in val.clients]])[0]"
   ]
  },
  {
   "cell_type": "code",
   "execution_count": 14,
   "id": "9f4ec5cf",
   "metadata": {},
   "outputs": [],
   "source": [
    "weights = ckpt[0].model"
   ]
  },
  {
   "cell_type": "code",
   "execution_count": 15,
   "id": "f297a8ed",
   "metadata": {},
   "outputs": [],
   "source": [
    "client_states = dict(zip(val.clients, ckpt[1]))"
   ]
  }
 ],
 "metadata": {
  "kernelspec": {
   "display_name": "Python 3",
   "language": "python",
   "name": "python3"
  },
  "language_info": {
   "codemirror_mode": {
    "name": "ipython",
    "version": 3
   },
   "file_extension": ".py",
   "mimetype": "text/x-python",
   "name": "python",
   "nbconvert_exporter": "python",
   "pygments_lexer": "ipython3",
   "version": "3.6.9"
  }
 },
 "nbformat": 4,
 "nbformat_minor": 5
}
