{
 "cells": [
  {
   "cell_type": "code",
   "execution_count": 1,
   "metadata": {},
   "outputs": [],
   "source": [
    "import attr\n",
    "from collections import OrderedDict\n",
    "from functools import partial\n",
    "\n",
    "import nest_asyncio\n",
    "import matplotlib.pylab as plt\n",
    "import mlflow\n",
    "import numpy as np\n",
    "import seaborn as sns\n",
    "import tensorflow as tf\n",
    "import tensorflow_federated as tff\n",
    "\n",
    "from ocddetection.types import FederatedDataset\n",
    "from ocddetection.federated.learning import stateless\n",
    "from ocddetection.federated.learning.impl import averaging"
   ]
  },
  {
   "cell_type": "code",
   "execution_count": 2,
   "metadata": {},
   "outputs": [],
   "source": [
    "nest_asyncio.apply()"
   ]
  },
  {
   "cell_type": "code",
   "execution_count": 3,
   "metadata": {},
   "outputs": [],
   "source": [
    "@attr.s(eq=False, frozen=True, slots=True)\n",
    "class Analysis(object):\n",
    "    \"\"\"\n",
    "    Structure for outputs returned from clients during federated analysis.\n",
    "    \n",
    "    Fields:\n",
    "        - `confusion_matrix`: A confusion matrix.\n",
    "    \"\"\"\n",
    "    confusion_matrix = attr.ib()"
   ]
  },
  {
   "cell_type": "code",
   "execution_count": 4,
   "metadata": {},
   "outputs": [],
   "source": [
    "def model_fn():\n",
    "    return tff.learning.from_keras_model(\n",
    "        tf.keras.Sequential([\n",
    "            tf.keras.layers.Input(shape=(10, 2)),\n",
    "            tf.keras.layers.Dense(3)\n",
    "        ]),\n",
    "        loss=tf.keras.losses.SparseCategoricalCrossentropy(from_logits=True),\n",
    "        input_spec=(\n",
    "            tf.TensorSpec((None, 10, 2), dtype=tf.float32),\n",
    "            tf.TensorSpec((None, 10), dtype=tf.int32)\n",
    "        ),\n",
    "        metrics=[\n",
    "            tf.keras.metrics.SparseCategoricalAccuracy()\n",
    "        ]\n",
    "    )\n",
    "\n",
    "\n",
    "def generate_data():\n",
    "    return tf.data.Dataset.from_tensor_slices((\n",
    "        tf.random.uniform((30, 10, 2), 0, 1, dtype=tf.float32),\n",
    "        tf.random.uniform((30, 10), 0, 3, dtype=tf.int32)\n",
    "    )).batch(5)\n",
    "\n",
    "\n",
    "def __analyse(dataset, weights, model):\n",
    "    weights.assign_weights_to(model)\n",
    "    \n",
    "    y = tf.TensorArray(tf.int32, size=0, dynamic_size=True)\n",
    "    y_hat = tf.TensorArray(tf.float32, size=0, dynamic_size=True)\n",
    "    \n",
    "    for idx, batch in enumerate(dataset):\n",
    "        outputs = model.forward_pass(batch)\n",
    "        y = y.write(tf.cast(idx, dtype=tf.int32), batch[1])        \n",
    "        y_hat = y_hat.write(tf.cast(idx, dtype=tf.int32), outputs.predictions)\n",
    "        \n",
    "    y_stacked = y.concat()\n",
    "    y_hat_stacked = tf.cast(tf.argmax(y_hat.concat(), axis=-1), dtype=tf.int32)\n",
    "\n",
    "    confusion_matrix = tf.math.confusion_matrix(\n",
    "        y_stacked,\n",
    "        y_hat_stacked\n",
    "    )\n",
    "    \n",
    "    return Analysis(\n",
    "        confusion_matrix=confusion_matrix\n",
    "    )\n",
    "\n",
    "\n",
    "def __analyse_client(dataset, weights, model_fn, analysis_fn):\n",
    "    model = model_fn()\n",
    "    \n",
    "    return analysis_fn(\n",
    "        dataset,\n",
    "        weights,\n",
    "        model\n",
    "    )\n",
    "\n",
    "\n",
    "def __analyser(model_fn):\n",
    "    model = model_fn()\n",
    "    dataset_type = tff.SequenceType(model.input_spec)\n",
    "    weights_type = tff.learning.framework.weights_type_from_model(model)\n",
    "\n",
    "    analyse_client_tf = tff.tf_computation(\n",
    "        lambda dataset, weights: __analyse_client(\n",
    "            dataset,\n",
    "            weights,\n",
    "            model_fn,\n",
    "            tf.function(__analyse)\n",
    "        ),\n",
    "        (dataset_type, weights_type)\n",
    "    )\n",
    "\n",
    "    federated_weights_type = tff.type_at_server(weights_type)\n",
    "    federated_dataset_type = tff.type_at_clients(dataset_type)    \n",
    "\n",
    "    def analyse(weights, datasets):\n",
    "        broadcast = tff.federated_broadcast(weights)\n",
    "        outputs = tff.federated_map(analyse_client_tf, (datasets, broadcast))\n",
    "\n",
    "        return outputs\n",
    "\n",
    "    return tff.federated_computation(\n",
    "        analyse,\n",
    "        (federated_weights_type, federated_dataset_type)\n",
    "    )"
   ]
  },
  {
   "cell_type": "code",
   "execution_count": 11,
   "metadata": {},
   "outputs": [],
   "source": [
    "client_optimizer_fn = partial(\n",
    "    averaging.__client_optimizer_fn,\n",
    "    learning_rate=0.1\n",
    ")"
   ]
  },
  {
   "cell_type": "code",
   "execution_count": 12,
   "metadata": {},
   "outputs": [],
   "source": [
    "iterator = tff.learning.build_federated_averaging_process(\n",
    "    model_fn,\n",
    "    client_optimizer_fn,\n",
    "    averaging.__server_optimizer_fn\n",
    ")"
   ]
  },
  {
   "cell_type": "code",
   "execution_count": 13,
   "metadata": {},
   "outputs": [],
   "source": [
    "evaluator = tff.learning.build_federated_evaluation(\n",
    "    model_fn\n",
    ")"
   ]
  },
  {
   "cell_type": "code",
   "execution_count": 14,
   "metadata": {},
   "outputs": [],
   "source": [
    "analyser = __analyser(\n",
    "    model_fn\n",
    ")"
   ]
  },
  {
   "cell_type": "code",
   "execution_count": 15,
   "metadata": {},
   "outputs": [],
   "source": [
    "train = FederatedDataset(\n",
    "    [1, 2],\n",
    "    OrderedDict({idx: generate_data() for idx in [1, 2]})\n",
    ")"
   ]
  },
  {
   "cell_type": "code",
   "execution_count": 16,
   "metadata": {},
   "outputs": [],
   "source": [
    "val = FederatedDataset(\n",
    "    [1, 2],\n",
    "    OrderedDict({idx: generate_data() for idx in [1, 2]})\n",
    ")"
   ]
  },
  {
   "cell_type": "code",
   "execution_count": 17,
   "metadata": {},
   "outputs": [],
   "source": [
    "train_step = partial(\n",
    "    stateless.__train_step,\n",
    "    dataset=train,\n",
    "    clients_per_round=2,\n",
    "    train_fn=iterator.next\n",
    ")"
   ]
  },
  {
   "cell_type": "code",
   "execution_count": 18,
   "metadata": {},
   "outputs": [],
   "source": [
    "evaluation_step = partial(\n",
    "    stateless.__evaluation_step,\n",
    "    dataset=val,\n",
    "    evaluate_fn=evaluator\n",
    ")"
   ]
  },
  {
   "cell_type": "code",
   "execution_count": 19,
   "metadata": {},
   "outputs": [
    {
     "name": "stdout",
     "output_type": "stream",
     "text": [
      "WARNING:tensorflow:From /home/Lando.Loeper/miniconda3/envs/tff/lib/python3.8/site-packages/tensorflow_federated/python/core/impl/compiler/tensorflow_computation_transformations.py:58: extract_sub_graph (from tensorflow.python.framework.graph_util_impl) is deprecated and will be removed in a future version.\n",
      "Instructions for updating:\n",
      "Use `tf.compat.v1.graph_util.extract_sub_graph`\n"
     ]
    },
    {
     "name": "stderr",
     "output_type": "stream",
     "text": [
      "WARNING:tensorflow:From /home/Lando.Loeper/miniconda3/envs/tff/lib/python3.8/site-packages/tensorflow_federated/python/core/impl/compiler/tensorflow_computation_transformations.py:58: extract_sub_graph (from tensorflow.python.framework.graph_util_impl) is deprecated and will be removed in a future version.\n",
      "Instructions for updating:\n",
      "Use `tf.compat.v1.graph_util.extract_sub_graph`\n"
     ]
    }
   ],
   "source": [
    "state = iterator.initialize()"
   ]
  },
  {
   "cell_type": "code",
   "execution_count": 20,
   "metadata": {},
   "outputs": [],
   "source": [
    "state, metrics = train_step(state)"
   ]
  },
  {
   "cell_type": "code",
   "execution_count": 21,
   "metadata": {},
   "outputs": [],
   "source": [
    "val_metrics = evaluation_step(state.model)"
   ]
  },
  {
   "cell_type": "code",
   "execution_count": 22,
   "metadata": {},
   "outputs": [],
   "source": [
    "cms = analyser(state.model, list(val.data.values()))"
   ]
  },
  {
   "cell_type": "code",
   "execution_count": 24,
   "metadata": {},
   "outputs": [
    {
     "name": "stdout",
     "output_type": "stream",
     "text": [
      "INFO: 'Testing' does not exist. Creating a new experiment\n"
     ]
    }
   ],
   "source": [
    "mlflow.set_experiment('Testing')"
   ]
  },
  {
   "cell_type": "code",
   "execution_count": 26,
   "metadata": {},
   "outputs": [
    {
     "data": {
      "image/png": "[encoded data removed]",
      "text/plain": [
       "<Figure size 432x288 with 2 Axes>"
      ]
     },
     "metadata": {
      "needs_background": "light"
     },
     "output_type": "display_data"
    },
    {
     "data": {
      "image/png": "[encoded data removed]",
      "text/plain": [
       "<Figure size 432x288 with 2 Axes>"
      ]
     },
     "metadata": {
      "needs_background": "light"
     },
     "output_type": "display_data"
    }
   ],
   "source": [
    "with mlflow.start_run(run_name='Figures'):\n",
    "    for idx, x in enumerate(cms):\n",
    "        fig, ax = plt.subplots()\n",
    "        cm = x.confusion_matrix / x.confusion_matrix.numpy().sum(axis=1)[:, tf.newaxis]\n",
    "        sns.heatmap(cm, annot=True, ax=ax)\n",
    "        plt.xlabel(\"Predicted\")\n",
    "        plt.ylabel(\"True\")\n",
    "        \n",
    "        mlflow.log_figure(fig, f'heatmap_{idx}.png')"
   ]
  },
  {
   "cell_type": "code",
   "execution_count": 5,
   "metadata": {},
   "outputs": [],
   "source": [
    "test_data = generate_data()"
   ]
  },
  {
   "cell_type": "code",
   "execution_count": 10,
   "metadata": {},
   "outputs": [],
   "source": [
    "ls = list(test_data.map(lambda x, y: y))"
   ]
  },
  {
   "cell_type": "code",
   "execution_count": 12,
   "metadata": {},
   "outputs": [],
   "source": [
    "test_tensor = tf.concat(ls, axis=0)"
   ]
  },
  {
   "cell_type": "code",
   "execution_count": 18,
   "metadata": {},
   "outputs": [
    {
     "data": {
      "text/plain": [
       "<tf.Tensor: shape=(300,), dtype=int32, numpy=\n",
       "array([2, 1, 2, 0, 1, 0, 0, 2, 2, 0, 1, 1, 1, 1, 2, 0, 1, 0, 0, 0, 2, 2,\n",
       "       0, 0, 1, 2, 1, 2, 0, 0, 0, 2, 2, 0, 2, 1, 2, 2, 1, 2, 2, 0, 1, 1,\n",
       "       0, 1, 1, 2, 0, 1, 2, 2, 0, 0, 1, 2, 2, 1, 2, 0, 0, 1, 0, 1, 0, 2,\n",
       "       0, 1, 0, 0, 1, 2, 1, 1, 1, 2, 2, 0, 1, 0, 2, 0, 1, 2, 2, 2, 0, 2,\n",
       "       2, 2, 0, 1, 2, 2, 1, 2, 0, 0, 0, 1, 1, 0, 1, 2, 0, 2, 0, 2, 1, 1,\n",
       "       0, 0, 1, 1, 2, 1, 1, 2, 1, 2, 2, 1, 0, 0, 2, 2, 1, 1, 2, 2, 2, 0,\n",
       "       2, 2, 2, 0, 2, 0, 2, 0, 1, 2, 0, 2, 2, 2, 0, 0, 1, 2, 2, 2, 0, 2,\n",
       "       0, 1, 0, 0, 1, 2, 2, 1, 0, 0, 1, 0, 0, 1, 2, 1, 1, 2, 2, 0, 1, 0,\n",
       "       0, 1, 0, 1, 2, 1, 2, 1, 2, 1, 0, 0, 0, 2, 0, 2, 0, 1, 0, 2, 0, 2,\n",
       "       2, 2, 0, 2, 2, 0, 2, 1, 0, 0, 1, 1, 2, 0, 1, 2, 2, 0, 2, 2, 2, 0,\n",
       "       2, 2, 1, 2, 2, 2, 1, 1, 1, 0, 1, 2, 1, 1, 0, 2, 1, 2, 1, 0, 2, 1,\n",
       "       0, 2, 2, 0, 1, 2, 0, 0, 1, 0, 1, 1, 2, 2, 1, 1, 0, 1, 2, 0, 2, 0,\n",
       "       2, 1, 0, 0, 1, 0, 2, 0, 0, 2, 0, 1, 0, 0, 0, 1, 2, 2, 2, 1, 0, 2,\n",
       "       2, 0, 1, 1, 1, 0, 0, 0, 2, 0, 1, 0, 0, 1], dtype=int32)>"
      ]
     },
     "execution_count": 18,
     "metadata": {},
     "output_type": "execute_result"
    }
   ],
   "source": [
    "tf.reshape(test_tensor, (-1,))"
   ]
  },
  {
   "cell_type": "code",
   "execution_count": null,
   "metadata": {},
   "outputs": [],
   "source": []
  }
 ],
 "metadata": {
  "kernelspec": {
   "display_name": "Python 3",
   "language": "python",
   "name": "python3"
  },
  "language_info": {
   "codemirror_mode": {
    "name": "ipython",
    "version": 3
   },
   "file_extension": ".py",
   "mimetype": "text/x-python",
   "name": "python",
   "nbconvert_exporter": "python",
   "pygments_lexer": "ipython3",
   "version": "3.8.5"
  }
 },
 "nbformat": 4,
 "nbformat_minor": 4
}
