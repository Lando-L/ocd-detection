{
 "cells": [
  {
   "cell_type": "code",
   "execution_count": 1,
   "metadata": {},
   "outputs": [],
   "source": [
    "from collections import OrderedDict\n",
    "\n",
    "import nest_asyncio\n",
    "import numpy as np\n",
    "import tensorflow as tf\n",
    "import tensorflow_federated as tff\n",
    "\n",
    "from ocddetection import models\n",
    "from ocddetection.data import preprocessing\n",
    "from ocddetection.federated.learning.impl.personalization.layers import process, utils"
   ]
  },
  {
   "cell_type": "code",
   "execution_count": 2,
   "metadata": {},
   "outputs": [],
   "source": [
    "nest_asyncio.apply()"
   ]
  },
  {
   "cell_type": "code",
   "execution_count": 3,
   "metadata": {},
   "outputs": [],
   "source": [
    "def __model_fn(window_size: int, hidden_size: int, dropout_rate: float) -> utils.PersonalizationLayersDecorator:\n",
    "    base, personalized, model = models.personalized_bidirectional(\n",
    "        window_size,\n",
    "        len(preprocessing.SENSORS),\n",
    "        len(preprocessing.LABEL2IDX),\n",
    "        hidden_size,\n",
    "        dropout_rate\n",
    "    )\n",
    "\n",
    "    return utils.PersonalizationLayersDecorator(\n",
    "        base,\n",
    "        personalized,\n",
    "        tff.learning.from_keras_model(\n",
    "            model,\n",
    "            loss=tf.keras.losses.SparseCategoricalCrossentropy(from_logits=True),\n",
    "            input_spec=(\n",
    "                tf.TensorSpec((None, window_size, len(preprocessing.SENSORS)), dtype=tf.float32),\n",
    "                tf.TensorSpec((None, window_size), dtype=tf.int32)\n",
    "            ),\n",
    "            metrics=[\n",
    "                tf.keras.metrics.SparseCategoricalAccuracy(name='accuracy')\n",
    "            ]\n",
    "        )\n",
    "    )"
   ]
  },
  {
   "cell_type": "code",
   "execution_count": 4,
   "metadata": {},
   "outputs": [],
   "source": [
    "model = __model_fn(5, 5, 0.4)"
   ]
  },
  {
   "cell_type": "code",
   "execution_count": 12,
   "metadata": {},
   "outputs": [],
   "source": [
    "base_weights_type = tff.framework.type_from_tensors(model.base_model.get_weights())"
   ]
  },
  {
   "cell_type": "code",
   "execution_count": 13,
   "metadata": {},
   "outputs": [
    {
     "data": {
      "text/plain": [
       "StructType([('trainable', StructType([TensorType(tf.float32, [77, 5]), TensorType(tf.float32, [5]), TensorType(tf.float32, [5]), TensorType(tf.float32, [5])]) as list), ('non_trainable', StructType([TensorType(tf.float32, [5]), TensorType(tf.float32, [5])]) as list)]) as ModelWeights"
      ]
     },
     "execution_count": 13,
     "metadata": {},
     "output_type": "execute_result"
    }
   ],
   "source": [
    "tff.framework.type_from_tensors(tff.learning.ModelWeights.from_model(model.base_model))"
   ]
  },
  {
   "cell_type": "code",
   "execution_count": 14,
   "metadata": {},
   "outputs": [
    {
     "data": {
      "text/plain": [
       "StructType([('trainable', StructType([TensorType(tf.float32, [77, 5]), TensorType(tf.float32, [5]), TensorType(tf.float32, [5]), TensorType(tf.float32, [5]), TensorType(tf.float32, [5, 20]), TensorType(tf.float32, [5, 20]), TensorType(tf.float32, [20]), TensorType(tf.float32, [5, 20]), TensorType(tf.float32, [5, 20]), TensorType(tf.float32, [20]), TensorType(tf.float32, [10, 5]), TensorType(tf.float32, [5]), TensorType(tf.float32, [5]), TensorType(tf.float32, [5])]) as list), ('non_trainable', StructType([TensorType(tf.float32, [5]), TensorType(tf.float32, [5]), TensorType(tf.float32, [5]), TensorType(tf.float32, [5])]) as list)]) as ModelWeights"
      ]
     },
     "execution_count": 14,
     "metadata": {},
     "output_type": "execute_result"
    }
   ],
   "source": [
    "tff.learning.framework.weights_type_from_model(model)"
   ]
  },
  {
   "cell_type": "code",
   "execution_count": null,
   "metadata": {},
   "outputs": [],
   "source": [
    "def model_fn() -> tff.learning.Model:\n",
    "    base, personalized, model = keras_model_fn()\n",
    "    \n",
    "    return utils.PersonalizationLayersDecorator(\n",
    "        base=base,\n",
    "        personalized=personalized,\n",
    "        model=tff.learning.from_keras_model(\n",
    "            model,\n",
    "            loss=tf.keras.losses.BinaryCrossentropy(),\n",
    "            input_spec=(\n",
    "                tf.TensorSpec((None, 2), dtype=tf.float32),\n",
    "                tf.TensorSpec((None, 1), dtype=tf.int32)\n",
    "            ),\n",
    "            metrics=[tf.keras.metrics.BinaryAccuracy()]\n",
    "        )\n",
    "    )"
   ]
  },
  {
   "cell_type": "code",
   "execution_count": null,
   "metadata": {},
   "outputs": [],
   "source": [
    "def client_optimizer_fn():\n",
    "    return tf.keras.optimizers.SGD(learning_rate=0.01)\n",
    "\n",
    "def server_optimizer_fn():\n",
    "    return tf.keras.optimizers.SGD(learning_rate=1.0, momentum=0.9)"
   ]
  },
  {
   "cell_type": "code",
   "execution_count": null,
   "metadata": {},
   "outputs": [],
   "source": [
    "client_idx2ids = [\"zero\", \"one\"]\n",
    "client_id2idx = {\"zero\": 0, \"one\": 1}"
   ]
  },
  {
   "cell_type": "code",
   "execution_count": null,
   "metadata": {},
   "outputs": [],
   "source": [
    "ds = {\n",
    "    \"zero\": tf.data.Dataset.from_tensor_slices(\n",
    "        (\n",
    "            np.asarray(np.random.random((5, 2)), dtype=np.float32),\n",
    "            np.zeros((5, 1), dtype=np.int32)\n",
    "        )\n",
    "    ).batch(5).repeat(5),\n",
    "    \"one\": tf.data.Dataset.from_tensor_slices(\n",
    "        (\n",
    "            np.asarray(np.random.random((10, 2)), dtype=np.float32),\n",
    "            np.ones((10, 1), dtype=np.int32)\n",
    "        )\n",
    "    ).batch(5).repeat(5)\n",
    "}"
   ]
  },
  {
   "cell_type": "code",
   "execution_count": null,
   "metadata": {},
   "outputs": [],
   "source": [
    "dummy_model = model_fn()"
   ]
  },
  {
   "cell_type": "code",
   "execution_count": null,
   "metadata": {},
   "outputs": [],
   "source": [
    "initial_personalisation_weights = [variable.numpy() for variable in dummy_model.personalized_variables]"
   ]
  },
  {
   "cell_type": "code",
   "execution_count": null,
   "metadata": {},
   "outputs": [],
   "source": [
    "client_states = {\n",
    "    \"zero\": client.State(0, initial_personalisation_weights),\n",
    "    \"one\": client.State(1, initial_personalisation_weights)\n",
    "}"
   ]
  },
  {
   "cell_type": "code",
   "execution_count": null,
   "metadata": {},
   "outputs": [],
   "source": [
    "def client_state_fn():\n",
    "    return client.State(-1, initial_personalisation_weights)"
   ]
  },
  {
   "cell_type": "code",
   "execution_count": null,
   "metadata": {},
   "outputs": [],
   "source": [
    "iterator = iterator.iterator(model_fn, client_state_fn, server_optimizer_fn, client_optimizer_fn)"
   ]
  },
  {
   "cell_type": "code",
   "execution_count": null,
   "metadata": {},
   "outputs": [],
   "source": [
    "state = iterator.initialize()"
   ]
  },
  {
   "cell_type": "code",
   "execution_count": null,
   "metadata": {},
   "outputs": [],
   "source": [
    "state"
   ]
  },
  {
   "cell_type": "code",
   "execution_count": null,
   "metadata": {},
   "outputs": [],
   "source": [
    "for r in range(10):\n",
    "    state, outputs, updated_client_states = iterator.next(\n",
    "        state,\n",
    "        [ds[i] for i in client_idx2ids],\n",
    "        [client_states[i] for i in client_idx2ids]\n",
    "    )\n",
    "    \n",
    "    for client_state in updated_client_states:\n",
    "        client_id = client_idx2ids[client_state.client_index.numpy()]\n",
    "        client_states[client_id] = client_state\n",
    "    \n",
    "    print('Round: {}'.format(r))\n",
    "    print(outputs)"
   ]
  },
  {
   "cell_type": "code",
   "execution_count": null,
   "metadata": {},
   "outputs": [],
   "source": []
  }
 ],
 "metadata": {
  "kernelspec": {
   "display_name": "Python 3",
   "language": "python",
   "name": "python3"
  },
  "language_info": {
   "codemirror_mode": {
    "name": "ipython",
    "version": 3
   },
   "file_extension": ".py",
   "mimetype": "text/x-python",
   "name": "python",
   "nbconvert_exporter": "python",
   "pygments_lexer": "ipython3",
   "version": "3.8.5"
  }
 },
 "nbformat": 4,
 "nbformat_minor": 4
}
