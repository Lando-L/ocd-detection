{
 "cells": [
  {
   "cell_type": "code",
   "execution_count": 1,
   "id": "recorded-consequence",
   "metadata": {},
   "outputs": [],
   "source": [
    "import matplotlib.pylab as plt\n",
    "import numpy as np\n",
    "import pandas as pd\n",
    "import seaborn as sns\n",
    "import tensorflow as tf\n",
    "\n",
    "from ocddetection.data import preprocessing"
   ]
  },
  {
   "cell_type": "code",
   "execution_count": null,
   "id": "diverse-surfing",
   "metadata": {},
   "outputs": [],
   "source": [
    "ss = pd.Series(\n",
    "    [f'./data/S{subject}-ADL{run}-AUGMENTED.csv' for subject in range(1, 5) for run in range(1, 6)],\n",
    "    index=pd.MultiIndex.from_product([list(range(1, 5)), list(range(1, 6))]),\n",
    "    name='path'\n",
    ")"
   ]
  },
  {
   "cell_type": "code",
   "execution_count": null,
   "id": "moving-alert",
   "metadata": {},
   "outputs": [],
   "source": [
    "train, val, test = preprocessing.split(\n",
    "    ss,\n",
    "    [(subject, 4) for subject in range(1, 5)],\n",
    "    [(subject, 5) for subject in range(1, 5)]\n",
    ")"
   ]
  },
  {
   "cell_type": "code",
   "execution_count": 2,
   "id": "manufactured-attribute",
   "metadata": {},
   "outputs": [],
   "source": [
    "ds = tf.data.Dataset.from_tensor_slices((\n",
    "    tf.random.uniform((15, 10, 3), 0, 1, dtype=tf.float32),\n",
    "    tf.random.uniform((15, 10), 0, 2, dtype=tf.int32)\n",
    ")).batch(4)"
   ]
  },
  {
   "cell_type": "code",
   "execution_count": 3,
   "id": "checked-egypt",
   "metadata": {},
   "outputs": [],
   "source": [
    "model = tf.keras.Sequential([\n",
    "    tf.keras.layers.Input(shape=(10, 3)),\n",
    "    tf.keras.layers.Dense(1)\n",
    "])"
   ]
  },
  {
   "cell_type": "code",
   "execution_count": 4,
   "id": "clear-aviation",
   "metadata": {},
   "outputs": [],
   "source": [
    "model.compile(\n",
    "    loss=tf.keras.losses.BinaryCrossentropy(from_logits=True),\n",
    "    optimizer=tf.keras.optimizers.SGD(learning_rate=0.1)\n",
    ")"
   ]
  },
  {
   "cell_type": "code",
   "execution_count": 5,
   "id": "flexible-heading",
   "metadata": {},
   "outputs": [],
   "source": [
    "y_true = ds.map(lambda X, y: y).unbatch()\n",
    "logits = model.predict(ds).reshape((-1, 10))\n",
    "y_pred = tf.data.Dataset.from_tensor_slices(tf.round(tf.nn.sigmoid(logits)))"
   ]
  },
  {
   "cell_type": "code",
   "execution_count": 6,
   "id": "younger-omaha",
   "metadata": {},
   "outputs": [],
   "source": [
    "cm = tf.data.Dataset.zip((y_true, y_pred)).reduce(\n",
    "    tf.zeros((2, 2), dtype=tf.int32),\n",
    "    lambda state, t: state + tf.math.confusion_matrix(t[0], t[1], num_classes=2)\n",
    ")"
   ]
  },
  {
   "cell_type": "code",
   "execution_count": 14,
   "id": "placed-anthropology",
   "metadata": {},
   "outputs": [
    {
     "data": {
      "image/png": "[encoded data removed]",
      "text/plain": [
       "<Figure size 576x576 with 2 Axes>"
      ]
     },
     "metadata": {
      "needs_background": "light"
     },
     "output_type": "display_data"
    }
   ],
   "source": [
    "fig, ax = plt.subplots(1, 1, figsize=(8, 8))\n",
    "\n",
    "sns.heatmap(cm, annot=True, fmt='d', cmap=sns.color_palette(\"Blues\"), ax=ax)\n",
    "ax.set_xlabel('Pred')\n",
    "ax.set_ylabel('True')\n",
    "\n",
    "plt.show()"
   ]
  },
  {
   "cell_type": "code",
   "execution_count": null,
   "id": "present-snowboard",
   "metadata": {},
   "outputs": [],
   "source": [
    "mm = cm / cm.numpy().sum(axis=1)[:, tf.newaxis]"
   ]
  },
  {
   "cell_type": "code",
   "execution_count": null,
   "id": "specialized-bidding",
   "metadata": {},
   "outputs": [],
   "source": [
    "mm"
   ]
  },
  {
   "cell_type": "code",
   "execution_count": null,
   "id": "expected-impression",
   "metadata": {},
   "outputs": [],
   "source": [
    "tf.data.Dataset.zip((y_true, y_pred)).reduce(\n",
    "    tf.zeros((2, 2), dtype=tf.int32),\n",
    "    lambda state, t: state + tf.math.confusion_matrix(t[0], t[1], num_classes=2)\n",
    ")"
   ]
  },
  {
   "cell_type": "code",
   "execution_count": null,
   "id": "metropolitan-quick",
   "metadata": {},
   "outputs": [],
   "source": [
    "tf.math.confusion_matrix(y_true[0], y_pred[0], num_classes=2)"
   ]
  },
  {
   "cell_type": "code",
   "execution_count": null,
   "id": "usual-reggae",
   "metadata": {},
   "outputs": [],
   "source": [
    "tf.math.confusion_matrix(y_true[1], y_pred[1], num_classes=2)"
   ]
  },
  {
   "cell_type": "code",
   "execution_count": null,
   "id": "searching-rachel",
   "metadata": {},
   "outputs": [],
   "source": [
    "ds = preprocessing.to_federated(val, epochs=3, batch_size=8, window_size=10)"
   ]
  },
  {
   "cell_type": "code",
   "execution_count": null,
   "id": "fluid-blogger",
   "metadata": {},
   "outputs": [],
   "source": [
    "subject_one = ds.data[1]"
   ]
  },
  {
   "cell_type": "code",
   "execution_count": null,
   "id": "modified-inclusion",
   "metadata": {},
   "outputs": [],
   "source": [
    "subject_one_it = iter(subject_one)"
   ]
  },
  {
   "cell_type": "code",
   "execution_count": null,
   "id": "affecting-defensive",
   "metadata": {},
   "outputs": [],
   "source": [
    "next(subject_one_it)"
   ]
  },
  {
   "cell_type": "code",
   "execution_count": null,
   "id": "infectious-truth",
   "metadata": {},
   "outputs": [],
   "source": [
    "y = subject_one.map(lambda X, y: y)"
   ]
  },
  {
   "cell_type": "code",
   "execution_count": null,
   "id": "written-powell",
   "metadata": {},
   "outputs": [],
   "source": [
    "y_true = list(y.as_numpy_iterator())"
   ]
  },
  {
   "cell_type": "code",
   "execution_count": null,
   "id": "approximate-batch",
   "metadata": {},
   "outputs": [],
   "source": [
    "y_true_arr = np.asarray(y_true)"
   ]
  },
  {
   "cell_type": "code",
   "execution_count": null,
   "id": "supreme-tissue",
   "metadata": {},
   "outputs": [],
   "source": [
    "y_true_arr_re = y_true_arr.reshape((-1))"
   ]
  },
  {
   "cell_type": "code",
   "execution_count": null,
   "id": "stone-enzyme",
   "metadata": {},
   "outputs": [],
   "source": [
    "y_true_arr_re.shape"
   ]
  },
  {
   "cell_type": "code",
   "execution_count": null,
   "id": "classified-russia",
   "metadata": {},
   "outputs": [],
   "source": []
  }
 ],
 "metadata": {
  "kernelspec": {
   "display_name": "Python 3",
   "language": "python",
   "name": "python3"
  },
  "language_info": {
   "codemirror_mode": {
    "name": "ipython",
    "version": 3
   },
   "file_extension": ".py",
   "mimetype": "text/x-python",
   "name": "python",
   "nbconvert_exporter": "python",
   "pygments_lexer": "ipython3",
   "version": "3.8.5"
  }
 },
 "nbformat": 4,
 "nbformat_minor": 5
}
