{
 "cells": [
  {
   "cell_type": "code",
   "execution_count": 1,
   "metadata": {},
   "outputs": [],
   "source": [
    "from collections import defaultdict\n",
    "from functools import partial, reduce\n",
    "from itertools import cycle\n",
    "\n",
    "import matplotlib.pylab as plt\n",
    "import numpy as np\n",
    "import pandas as pd\n",
    "import tensorflow as tf\n",
    "\n",
    "from ocddetection.data import augmentation"
   ]
  },
  {
   "cell_type": "code",
   "execution_count": 2,
   "metadata": {},
   "outputs": [],
   "source": [
    "adls = [\n",
    "    augmentation.__dataframe('/mnt/dsets/OpportunityUCIDataset/dataset/S1-ADL1.dat'),\n",
    "    augmentation.__dataframe('/mnt/dsets/OpportunityUCIDataset/dataset/S1-ADL2.dat'),\n",
    "    augmentation.__dataframe('/mnt/dsets/OpportunityUCIDataset/dataset/S1-ADL3.dat')\n",
    "]"
   ]
  },
  {
   "cell_type": "code",
   "execution_count": 3,
   "metadata": {},
   "outputs": [],
   "source": [
    "drill = augmentation.__dataframe('/mnt/dsets/OpportunityUCIDataset/dataset/S1-Drill.dat')"
   ]
  },
  {
   "cell_type": "code",
   "execution_count": 4,
   "metadata": {},
   "outputs": [],
   "source": [
    "clean_table_state_fn = augmentation.__one_state_action_fn(\n",
    "    'clean_table',\n",
    "    'Clean Table'\n",
    ")"
   ]
  },
  {
   "cell_type": "code",
   "execution_count": 5,
   "metadata": {},
   "outputs": [],
   "source": [
    "fridge_open_state_fn, fridge_null_state_fn, fridge_close_state_fn = augmentation.__two_state_action_fn(\n",
    "    'fridge',\n",
    "    'Open Fridge',\n",
    "    'Close Fridge'\n",
    ")"
   ]
  },
  {
   "cell_type": "code",
   "execution_count": 6,
   "metadata": {},
   "outputs": [],
   "source": [
    "outer_state = augmentation.Stateful(\n",
    "    'outer',\n",
    "    'Outer Action',\n",
    "    None,\n",
    "    None\n",
    ")"
   ]
  },
  {
   "cell_type": "code",
   "execution_count": 7,
   "metadata": {},
   "outputs": [],
   "source": [
    "clean_table_state_machine = partial(\n",
    "    augmentation.__one_state_action_state_machine,\n",
    "    state_action='Clean Table',\n",
    "    state_fn=clean_table_state_fn,\n",
    "    outer_state=outer_state\n",
    ")"
   ]
  },
  {
   "cell_type": "code",
   "execution_count": 8,
   "metadata": {},
   "outputs": [],
   "source": [
    "fridge_state_machine = partial(\n",
    "    augmentation.__two_state_action_state_machine,\n",
    "    open_action='Open Fridge',\n",
    "    open_state_fn=fridge_open_state_fn,\n",
    "    padding_action='Null',\n",
    "    padding_state_fn=fridge_null_state_fn,\n",
    "    close_action='Close Fridge',\n",
    "    close_state_fn=fridge_close_state_fn,\n",
    "    outer_state=outer_state\n",
    ")"
   ]
  },
  {
   "cell_type": "code",
   "execution_count": 9,
   "metadata": {},
   "outputs": [],
   "source": [
    "state_machine = partial(\n",
    "    augmentation.__action_state_machine,\n",
    "    state_machine_fn={\n",
    "        'clean_table': clean_table_state_machine,\n",
    "        'fridge': fridge_state_machine\n",
    "    },\n",
    "    outer_state=outer_state\n",
    ")"
   ]
  },
  {
   "cell_type": "code",
   "execution_count": 10,
   "metadata": {},
   "outputs": [],
   "source": [
    "collect_fn = partial(\n",
    "    augmentation.__collect_actions,\n",
    "    state_machine_fn=state_machine,\n",
    "    outer_state=outer_state\n",
    ")"
   ]
  },
  {
   "cell_type": "code",
   "execution_count": 11,
   "metadata": {},
   "outputs": [],
   "source": [
    "results = augmentation.augment(\n",
    "    adls,\n",
    "    drill,\n",
    "    collect_fn,\n",
    "    3\n",
    ")"
   ]
  },
  {
   "cell_type": "code",
   "execution_count": 12,
   "metadata": {},
   "outputs": [
    {
     "name": "stdout",
     "output_type": "stream",
     "text": [
      "Null                 68\n",
      "Close Dishwasher      0\n",
      "Close Drawer 3        0\n",
      "Close Drawer 2        0\n",
      "Close Door 1          0\n",
      "Close Door 2          0\n",
      "Close Drawer 1        0\n",
      "Close Fridge        899\n",
      "Toggle Switch         0\n",
      "Open Dishwasher       0\n",
      "Open Drawer 3         0\n",
      "Open Drawer 2         0\n",
      "Open Door 1           0\n",
      "Open Door 2           0\n",
      "Open Drawer 1         0\n",
      "Open Fridge         868\n",
      "Drink from Cup        0\n",
      "Clean Table         612\n",
      "Name: 78, dtype: int64\n",
      "\n",
      "Close Dishwasher       0\n",
      "Close Door 1           0\n",
      "Close Door 2           0\n",
      "Close Drawer 1         0\n",
      "Close Drawer 2         0\n",
      "Close Drawer 3         0\n",
      "Close Fridge        1159\n",
      "Drink from Cup         0\n",
      "Null                  47\n",
      "Open Dishwasher        0\n",
      "Open Door 1            0\n",
      "Open Door 2            0\n",
      "Open Drawer 1          0\n",
      "Open Drawer 2          0\n",
      "Open Drawer 3          0\n",
      "Open Fridge         1142\n",
      "Toggle Switch          0\n",
      "Name: 78, dtype: int64\n",
      "\n",
      "Null                  68\n",
      "Close Dishwasher       0\n",
      "Close Drawer 3         0\n",
      "Close Drawer 2         0\n",
      "Close Door 1           0\n",
      "Close Door 2           0\n",
      "Close Drawer 1         0\n",
      "Close Fridge        1142\n",
      "Toggle Switch          0\n",
      "Open Dishwasher        0\n",
      "Open Drawer 3          0\n",
      "Open Drawer 2          0\n",
      "Open Door 1            0\n",
      "Open Door 2            0\n",
      "Open Drawer 1          0\n",
      "Open Fridge         1130\n",
      "Drink from Cup         0\n",
      "Clean Table          519\n",
      "Name: 78, dtype: int64\n",
      "\n"
     ]
    }
   ],
   "source": [
    "for a, d in zip(adls, results):\n",
    "    print(d[78].value_counts() - a[78].value_counts())\n",
    "    print()"
   ]
  },
  {
   "cell_type": "code",
   "execution_count": 13,
   "metadata": {},
   "outputs": [
    {
     "name": "stdout",
     "output_type": "stream",
     "text": [
      "4.604037705319009\n",
      "\n",
      "6.857476635514019\n",
      "\n",
      "8.085635905992817\n",
      "\n"
     ]
    }
   ],
   "source": [
    "for d in results:\n",
    "    print(d['ocd'][d['ocd'] == 1].sum() / len(d) * 100)\n",
    "    print()"
   ]
  },
  {
   "cell_type": "code",
   "execution_count": 14,
   "metadata": {
    "scrolled": false
   },
   "outputs": [
    {
     "name": "stdout",
     "output_type": "stream",
     "text": [
      "1    1767\n",
      "0     628\n",
      "Name: ocd, dtype: int64\n",
      "\n",
      "1    2301\n",
      "0     805\n",
      "Name: ocd, dtype: int64\n",
      "\n",
      "1    2272\n",
      "0     767\n",
      "Name: ocd, dtype: int64\n",
      "\n"
     ]
    }
   ],
   "source": [
    "for d in results:\n",
    "    print(d[d[78].isin({'Open Fridge', 'Close Fridge'})]['ocd'].value_counts())\n",
    "    print()"
   ]
  },
  {
   "cell_type": "code",
   "execution_count": 18,
   "metadata": {},
   "outputs": [
    {
     "data": {
      "text/plain": [
       "0\n",
       "0 days 00:06:08.093000    Open Fridge\n",
       "0 days 00:06:08.126000    Open Fridge\n",
       "0 days 00:06:08.159000    Open Fridge\n",
       "0 days 00:06:08.193000    Open Fridge\n",
       "0 days 00:06:08.226000    Open Fridge\n",
       "                             ...     \n",
       "0 days 00:27:10.589000    Clean Table\n",
       "0 days 00:27:10.622000    Clean Table\n",
       "0 days 00:27:10.656000    Clean Table\n",
       "0 days 00:27:10.689000    Clean Table\n",
       "0 days 00:27:10.722000    Clean Table\n",
       "Name: 78, Length: 2447, dtype: category\n",
       "Categories (18, object): ['Null', 'Close Dishwasher', 'Close Drawer 3', 'Close Drawer 2', ..., 'Open Drawer 1', 'Open Fridge', 'Drink from Cup', 'Clean Table']"
      ]
     },
     "execution_count": 18,
     "metadata": {},
     "output_type": "execute_result"
    }
   ],
   "source": [
    "results[0][results[0]['ocd'] == 1][78]"
   ]
  },
  {
   "cell_type": "code",
   "execution_count": null,
   "metadata": {},
   "outputs": [],
   "source": []
  }
 ],
 "metadata": {
  "kernelspec": {
   "display_name": "Python 3",
   "language": "python",
   "name": "python3"
  },
  "language_info": {
   "codemirror_mode": {
    "name": "ipython",
    "version": 3
   },
   "file_extension": ".py",
   "mimetype": "text/x-python",
   "name": "python",
   "nbconvert_exporter": "python",
   "pygments_lexer": "ipython3",
   "version": "3.8.5"
  }
 },
 "nbformat": 4,
 "nbformat_minor": 4
}
