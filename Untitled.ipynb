{
 "cells": [
  {
   "cell_type": "code",
   "execution_count": 1,
   "metadata": {},
   "outputs": [],
   "source": [
    "from itertools import cycle\n",
    "\n",
    "import matplotlib.pylab as plt\n",
    "import numpy as np\n",
    "import pandas as pd\n",
    "import tensorflow as tf\n",
    "\n",
    "from ocddetection.data import augmentation"
   ]
  },
  {
   "cell_type": "code",
   "execution_count": 2,
   "metadata": {},
   "outputs": [],
   "source": [
    "drill = augmentation.__dataframe('/mnt/dsets/OpportunityUCIDataset/dataset/S1-Drill.dat')"
   ]
  },
  {
   "cell_type": "code",
   "execution_count": 3,
   "metadata": {},
   "outputs": [],
   "source": [
    "adls = [\n",
    "    augmentation.__dataframe('/mnt/dsets/OpportunityUCIDataset/dataset/S1-ADL1.dat'),\n",
    "    augmentation.__dataframe('/mnt/dsets/OpportunityUCIDataset/dataset/S1-ADL2.dat'),\n",
    "    augmentation.__dataframe('/mnt/dsets/OpportunityUCIDataset/dataset/S1-ADL3.dat')\n",
    "]"
   ]
  },
  {
   "cell_type": "code",
   "execution_count": 4,
   "metadata": {},
   "outputs": [],
   "source": [
    "df_augmented = augmentation.__augment(adls, drill)"
   ]
  },
  {
   "cell_type": "code",
   "execution_count": 5,
   "metadata": {},
   "outputs": [
    {
     "name": "stdout",
     "output_type": "stream",
     "text": [
      "Null                 68\n",
      "Close Dishwasher      0\n",
      "Close Drawer 3        0\n",
      "Close Drawer 2        0\n",
      "Close Door 1          0\n",
      "Close Door 2          0\n",
      "Close Drawer 1        0\n",
      "Close Fridge        899\n",
      "Toggle Switch         0\n",
      "Open Dishwasher       0\n",
      "Open Drawer 3         0\n",
      "Open Drawer 2         0\n",
      "Open Door 1           0\n",
      "Open Door 2           0\n",
      "Open Drawer 1         0\n",
      "Open Fridge         868\n",
      "Drink from Cup        0\n",
      "Clean Table           0\n",
      "Name: 78, dtype: int64\n",
      "\n",
      "Close Dishwasher       0\n",
      "Close Door 1           0\n",
      "Close Door 2           0\n",
      "Close Drawer 1         0\n",
      "Close Drawer 2         0\n",
      "Close Drawer 3         0\n",
      "Close Fridge        1159\n",
      "Drink from Cup         0\n",
      "Null                  47\n",
      "Open Dishwasher        0\n",
      "Open Door 1            0\n",
      "Open Door 2            0\n",
      "Open Drawer 1          0\n",
      "Open Drawer 2          0\n",
      "Open Drawer 3          0\n",
      "Open Fridge         1142\n",
      "Toggle Switch          0\n",
      "Name: 78, dtype: int64\n",
      "\n",
      "Null                  68\n",
      "Close Dishwasher       0\n",
      "Close Drawer 3         0\n",
      "Close Drawer 2         0\n",
      "Close Door 1           0\n",
      "Close Door 2           0\n",
      "Close Drawer 1         0\n",
      "Close Fridge        1142\n",
      "Toggle Switch          0\n",
      "Open Dishwasher        0\n",
      "Open Drawer 3          0\n",
      "Open Drawer 2          0\n",
      "Open Door 1            0\n",
      "Open Door 2            0\n",
      "Open Drawer 1          0\n",
      "Open Fridge         1130\n",
      "Drink from Cup         0\n",
      "Clean Table            0\n",
      "Name: 78, dtype: int64\n",
      "\n"
     ]
    }
   ],
   "source": [
    "for a, d in zip(adls, df_augmented):\n",
    "    print(d[78].value_counts() - a[78].value_counts())\n",
    "    print()"
   ]
  },
  {
   "cell_type": "code",
   "execution_count": 11,
   "metadata": {},
   "outputs": [
    {
     "name": "stdout",
     "output_type": "stream",
     "text": [
      "3.4927765194053717\n",
      "\n",
      "6.857476635514019\n",
      "\n",
      "6.7164179104477615\n",
      "\n"
     ]
    }
   ],
   "source": [
    "for d in df_augmented:\n",
    "    print(d['ocd'][d['ocd'] == 1].sum() / len(d) * 100)\n",
    "    print()"
   ]
  },
  {
   "cell_type": "code",
   "execution_count": 13,
   "metadata": {
    "scrolled": false
   },
   "outputs": [
    {
     "name": "stdout",
     "output_type": "stream",
     "text": [
      "1    1767\n",
      "0     628\n",
      "Name: ocd, dtype: int64\n",
      "\n",
      "1    2301\n",
      "0     805\n",
      "Name: ocd, dtype: int64\n",
      "\n",
      "1    2272\n",
      "0     767\n",
      "Name: ocd, dtype: int64\n",
      "\n"
     ]
    }
   ],
   "source": [
    "for d in df_augmented:\n",
    "    print(d[d[78].isin({'Open Fridge', 'Close Fridge'})]['ocd'].value_counts())\n",
    "    print()"
   ]
  },
  {
   "cell_type": "code",
   "execution_count": 14,
   "metadata": {},
   "outputs": [],
   "source": [
    "df_adl = adls[0]"
   ]
  },
  {
   "cell_type": "code",
   "execution_count": null,
   "metadata": {},
   "outputs": [],
   "source": []
  },
  {
   "cell_type": "code",
   "execution_count": 17,
   "metadata": {},
   "outputs": [
    {
     "data": {
      "text/plain": [
       "0\n",
       "0 days 00:00:00           Null\n",
       "0 days 00:00:00.033000    Null\n",
       "0 days 00:00:00.067000    Null\n",
       "0 days 00:00:00.100000    Null\n",
       "0 days 00:00:00.133000    Null\n",
       "Name: 78, dtype: category\n",
       "Categories (18, object): ['Null', 'Close Dishwasher', 'Close Drawer 3', 'Close Drawer 2', ..., 'Open Drawer 1', 'Open Fridge', 'Drink from Cup', 'Clean Table']"
      ]
     },
     "execution_count": 17,
     "metadata": {},
     "output_type": "execute_result"
    }
   ],
   "source": [
    "df_adl[78].head()"
   ]
  },
  {
   "cell_type": "code",
   "execution_count": null,
   "metadata": {},
   "outputs": [],
   "source": [
    "def two_state(state, index, item):\n",
    "    if state.action == 'Open':\n",
    "        if item == 'Open':\n",
    "            return open_state(state.start, index), \n",
    "        \n",
    "        elif item == 'Null':\n",
    "            return padding_state(state.start, index)\n",
    "        \n",
    "        elif close == 'Close'\n",
    "            return close_state(state.start, index)\n",
    "        \n",
    "        else:\n",
    "            return outer_state(None, None)\n",
    "    \n",
    "    elif state.action == 'Null':\n",
    "        if item == 'Null':\n",
    "            return padding_state(state.start, index)\n",
    "        \n",
    "        elif item == 'Close':\n",
    "            return close_state(start.index, index)\n",
    "        \n",
    "        else:\n",
    "            return outer_state(None, None)\n",
    "        \n",
    "    elif state.action == 'Close':\n",
    "        if item == 'Open':\n",
    "            \n",
    "    "
   ]
  }
 ],
 "metadata": {
  "kernelspec": {
   "display_name": "Python 3",
   "language": "python",
   "name": "python3"
  },
  "language_info": {
   "codemirror_mode": {
    "name": "ipython",
    "version": 3
   },
   "file_extension": ".py",
   "mimetype": "text/x-python",
   "name": "python",
   "nbconvert_exporter": "python",
   "pygments_lexer": "ipython3",
   "version": "3.8.5"
  }
 },
 "nbformat": 4,
 "nbformat_minor": 4
}
