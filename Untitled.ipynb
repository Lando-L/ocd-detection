{
 "cells": [
  {
   "cell_type": "code",
   "execution_count": 1,
   "metadata": {},
   "outputs": [],
   "source": [
    "from functools import partial\n",
    "import os\n",
    "\n",
    "from ocddetection import data\n",
    "from ocddetection.data import augmentation"
   ]
  },
  {
   "cell_type": "code",
   "execution_count": 2,
   "metadata": {},
   "outputs": [],
   "source": [
    "adl_files, drill_files = data.files('/mnt/dsets/OpportunityUCIDataset/dataset/')"
   ]
  },
  {
   "cell_type": "code",
   "execution_count": 3,
   "metadata": {},
   "outputs": [],
   "source": [
    "toggle_switch_state_fn = augmentation.one_state_action_fn(\n",
    "    'toggle_switch',\n",
    "    'Toggle Switch'\n",
    ")\n",
    "\n",
    "fridge_open_state_fn, fridge_null_state_fn, fridge_close_state_fn = augmentation.two_state_action_fn(\n",
    "    'fridge',\n",
    "    'Open Fridge',\n",
    "    'Close Fridge'\n",
    ")\n",
    "\n",
    "dishwasher_open_state_fn, dishwasher_null_state_fn, dishwasher_close_state_fn = augmentation.two_state_action_fn(\n",
    "    'dishwasher',\n",
    "    'Open Dishwasher',\n",
    "    'Close Dishwasher'\n",
    ")\n",
    "\n",
    "outer_state = augmentation.Stateful(\n",
    "    'outer',\n",
    "    'Outer Action',\n",
    "    None,\n",
    "    None\n",
    ")\n",
    "\n",
    "toggle_switch_state_machine = partial(\n",
    "    augmentation.one_state_action_state_machine,\n",
    "    state_action='Toggle Switch',\n",
    "    state_fn=toggle_switch_state_fn,\n",
    "    outer_state=outer_state\n",
    ")\n",
    "\n",
    "fridge_state_machine = partial(\n",
    "    augmentation.two_state_action_state_machine,\n",
    "    open_action='Open Fridge',\n",
    "    open_state_fn=fridge_open_state_fn,\n",
    "    padding_action='Null',\n",
    "    padding_state_fn=fridge_null_state_fn,\n",
    "    close_action='Close Fridge',\n",
    "    close_state_fn=fridge_close_state_fn,\n",
    "    outer_state=outer_state\n",
    ")\n",
    "\n",
    "dishwasher_state_machine = partial(\n",
    "    augmentation.two_state_action_state_machine,\n",
    "    open_action='Open Dishwasher',\n",
    "    open_state_fn=dishwasher_open_state_fn,\n",
    "    padding_action='Null',\n",
    "    padding_state_fn=dishwasher_null_state_fn,\n",
    "    close_action='Close Dishwasher',\n",
    "    close_state_fn=dishwasher_close_state_fn,\n",
    "    outer_state=outer_state\n",
    ")\n",
    "\n",
    "state_machine = partial(\n",
    "    augmentation.action_state_machine,\n",
    "    state_machine_fn={\n",
    "        'toggle_switch': toggle_switch_state_machine,\n",
    "        'fridge': fridge_state_machine,\n",
    "        'dishwasher': dishwasher_state_machine\n",
    "    },\n",
    "    outer_state=outer_state\n",
    ")\n",
    "\n",
    "collect_fn = partial(\n",
    "    augmentation.collect_actions,\n",
    "    state_machine_fn=state_machine,\n",
    "    outer_state=outer_state\n",
    ")"
   ]
  },
  {
   "cell_type": "code",
   "execution_count": 4,
   "metadata": {},
   "outputs": [],
   "source": [
    "subject = drill_files.index[0]"
   ]
  },
  {
   "cell_type": "code",
   "execution_count": 5,
   "metadata": {},
   "outputs": [],
   "source": [
    "drill = augmentation.to_dataframe(drill_files.loc[subject, 'path'])"
   ]
  },
  {
   "cell_type": "code",
   "execution_count": 6,
   "metadata": {},
   "outputs": [],
   "source": [
    "adls = [augmentation.to_dataframe(path) for path in adl_files.loc[subject, 'path'].values]"
   ]
  },
  {
   "cell_type": "code",
   "execution_count": 7,
   "metadata": {},
   "outputs": [],
   "source": [
    "augmented = augmentation.augment(adls, drill, collect_fn, 4)"
   ]
  },
  {
   "cell_type": "code",
   "execution_count": 8,
   "metadata": {},
   "outputs": [],
   "source": [
    "output = '/home/Lando.Loeper/netstore/ocd-detection/data/'"
   ]
  },
  {
   "cell_type": "code",
   "execution_count": 11,
   "metadata": {},
   "outputs": [],
   "source": [
    "for run, df in zip(adl_files.loc[subject].index, augmented):\n",
    "    df.drop(78, axis=1).to_csv(\n",
    "        os.path.join(output, f'S{subject}-ADL{run}-AUGMENTED.csv'),\n",
    "        index=False,\n",
    "        header=False\n",
    "    )\n",
    "\n",
    "    df.to_csv(\n",
    "        os.path.join(output, f'S{subject}-ADL{run}-META.csv'),\n",
    "        index=True,\n",
    "        columns=[78, 'ocd'],\n",
    "        header=['activity', 'ocd']\n",
    "    )"
   ]
  },
  {
   "cell_type": "code",
   "execution_count": null,
   "metadata": {},
   "outputs": [],
   "source": []
  }
 ],
 "metadata": {
  "kernelspec": {
   "display_name": "Python 3",
   "language": "python",
   "name": "python3"
  },
  "language_info": {
   "codemirror_mode": {
    "name": "ipython",
    "version": 3
   },
   "file_extension": ".py",
   "mimetype": "text/x-python",
   "name": "python",
   "nbconvert_exporter": "python",
   "pygments_lexer": "ipython3",
   "version": "3.8.5"
  }
 },
 "nbformat": 4,
 "nbformat_minor": 4
}
